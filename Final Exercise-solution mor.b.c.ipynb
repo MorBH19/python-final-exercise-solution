{
 "cells": [
  {
   "cell_type": "markdown",
   "id": "1be4ca61-a9a1-4c7c-8a09-00c819f264ac",
   "metadata": {},
   "source": [
    "# Final Exercise - Python for Data Science"
   ]
  },
  {
   "cell_type": "markdown",
   "id": "a4fc407d-2bab-48f5-bf79-6070f59a9825",
   "metadata": {},
   "source": [
    "## Python Basics"
   ]
  },
  {
   "cell_type": "markdown",
   "id": "02307169-7541-4209-84f6-7ddc2e48ed1d",
   "metadata": {},
   "source": [
    "### strings"
   ]
  },
  {
   "cell_type": "markdown",
   "id": "8d8d4e71-7673-4fd5-95b0-a647f1a44803",
   "metadata": {
    "tags": []
   },
   "source": [
    "#### Contact two strings"
   ]
  },
  {
   "cell_type": "code",
   "execution_count": 5,
   "id": "3d4d5d41-5c40-4178-85dd-f09ac771e1a7",
   "metadata": {},
   "outputs": [],
   "source": [
    "s1 = 'abcde'\n",
    "s2 = '12345'\n",
    "expected = 'abcde12345'"
   ]
  },
  {
   "cell_type": "code",
   "execution_count": 6,
   "id": "f8589167-38c9-4d81-9d89-bb6c247ea534",
   "metadata": {},
   "outputs": [
    {
     "data": {
      "text/plain": [
       "'abcde12345'"
      ]
     },
     "execution_count": 6,
     "metadata": {},
     "output_type": "execute_result"
    }
   ],
   "source": [
    "# solution\n",
    "s1+s2"
   ]
  },
  {
   "cell_type": "markdown",
   "id": "0712e85a-bf3f-462b-9283-1cb034b10dbe",
   "metadata": {
    "tags": []
   },
   "source": [
    "#### Write a function that contacts the first half of string 1 to the second half of string 2"
   ]
  },
  {
   "cell_type": "markdown",
   "id": "8263aa4f-371a-45ed-870e-06603f660f58",
   "metadata": {},
   "source": [
    "Use a function `mix_halves()` to solve the general case (any two strings)"
   ]
  },
  {
   "cell_type": "markdown",
   "id": "b88b1942-208f-43fc-b2da-f87a0804d3b0",
   "metadata": {},
   "source": [
    "For example:"
   ]
  },
  {
   "cell_type": "code",
   "execution_count": 1,
   "id": "bd3f9f3b-ece2-4a03-8f20-d349712a7604",
   "metadata": {},
   "outputs": [],
   "source": [
    "s1 = 'abcdef'\n",
    "s2 = '123456'\n",
    "expected = 'abc456'"
   ]
  },
  {
   "cell_type": "code",
   "execution_count": 2,
   "id": "cec69956-7fbe-4bb8-a932-d1cb61b1dfbb",
   "metadata": {},
   "outputs": [
    {
     "data": {
      "text/plain": [
       "'abc456'"
      ]
     },
     "execution_count": 2,
     "metadata": {},
     "output_type": "execute_result"
    }
   ],
   "source": [
    "# solution\n",
    "def mix_halves(s1,s2):\n",
    "    mids1 = len(s1) // 2\n",
    "    mids2 = len(s2) // 2\n",
    "    return s1[:mids1] + s2[mids2:]\n",
    "mix_halves(s1,s2)"
   ]
  },
  {
   "cell_type": "markdown",
   "id": "8e65ad5d-9f43-462a-86ee-a7bc1dfa3e7b",
   "metadata": {},
   "source": [
    "#### Construct a string with characters from another string that are present at an even index number"
   ]
  },
  {
   "cell_type": "code",
   "execution_count": 5,
   "id": "77a728ab-2e6d-4afa-91b2-c365e5a091ad",
   "metadata": {},
   "outputs": [],
   "source": [
    "s = '1a2b3c4d'\n",
    "expected = 'abcd'"
   ]
  },
  {
   "cell_type": "code",
   "execution_count": 8,
   "id": "54e03e50-bd84-4362-b3a0-703f7d44fc52",
   "metadata": {},
   "outputs": [
    {
     "data": {
      "text/plain": [
       "'1234'"
      ]
     },
     "execution_count": 8,
     "metadata": {},
     "output_type": "execute_result"
    }
   ],
   "source": [
    "# solution\n",
    "def even_index_chars(s):\n",
    "    return s[::2]\n",
    "even_index_chars(s)"
   ]
  },
  {
   "cell_type": "markdown",
   "id": "08f4f2e3-dfb6-43a2-993a-90d4bac6c9da",
   "metadata": {},
   "source": [
    "#### Arrange string characters such that lowercase letters should come first"
   ]
  },
  {
   "cell_type": "markdown",
   "id": "0954a710-5261-43c5-bef2-fa8a998b29ec",
   "metadata": {},
   "source": [
    "Given string contains a combination of the lower and upper case letters. Write a program to arrange the characters of a string so that all lowercase letters should come first."
   ]
  },
  {
   "cell_type": "code",
   "execution_count": 26,
   "id": "8d12d734-780c-4158-899b-0ed7436893f2",
   "metadata": {},
   "outputs": [],
   "source": [
    "s1 = 'PyNaTive'\n",
    "expected = 'yaivePNT'"
   ]
  },
  {
   "cell_type": "code",
   "execution_count": 31,
   "id": "9cfc0f58-26ef-496f-94f2-67ae313b5a77",
   "metadata": {},
   "outputs": [
    {
     "data": {
      "text/plain": [
       "'yaivePNT'"
      ]
     },
     "execution_count": 31,
     "metadata": {},
     "output_type": "execute_result"
    }
   ],
   "source": [
    "# solution\n",
    "''.join(sorted(s1, key=str.isupper))"
   ]
  },
  {
   "cell_type": "markdown",
   "id": "f9569bf1-9673-4a1c-9b35-68f386544c93",
   "metadata": {},
   "source": [
    "#### Count all letters, digits, and special symbols from a given string"
   ]
  },
  {
   "cell_type": "code",
   "execution_count": 39,
   "id": "801f88ca-c591-456e-886a-412ed0ed6b89",
   "metadata": {},
   "outputs": [],
   "source": [
    "s1 = \"P@#yn26at^&i5ve\""
   ]
  },
  {
   "cell_type": "markdown",
   "id": "ed575e73-3a21-4fd4-b549-e0f4b8e7dca9",
   "metadata": {},
   "source": [
    "Hint: use `isalpha()` and a similar method for digit (can you guess its name?)"
   ]
  },
  {
   "cell_type": "markdown",
   "id": "b0a445dd-d872-452a-9585-da15756144b0",
   "metadata": {},
   "source": [
    "Expected Outcome:\n",
    "\n",
    "```\n",
    "Total counts of chars, digits, and symbols \n",
    "Chars = 8 \n",
    "Digits = 3 \n",
    "Symbol = 4\n"
   ]
  },
  {
   "cell_type": "code",
   "execution_count": 41,
   "id": "998a8f58-0a8e-40a2-a1d6-80a3c2659bf4",
   "metadata": {},
   "outputs": [
    {
     "name": "stdout",
     "output_type": "stream",
     "text": [
      "Total counts of chars, digits, and symbols\n",
      "Chars = 8\n",
      "Digits = 3\n",
      "Symbol = 4\n"
     ]
    }
   ],
   "source": [
    "# solution\n",
    "chars = sum(c.isalpha() for c in s1)\n",
    "digits = sum(c.isdigit() for c in s1)\n",
    "symbols = len(s1) - chars - digits\n",
    "\n",
    "print('Total counts of chars, digits, and symbols')\n",
    "print('Chars =', chars)\n",
    "print('Digits =', digits)\n",
    "print('Symbol =', symbols)"
   ]
  },
  {
   "cell_type": "markdown",
   "id": "146d5603-ddf4-4e84-8325-8cc15af329d1",
   "metadata": {},
   "source": [
    "#### String characters balance Test"
   ]
  },
  {
   "cell_type": "markdown",
   "id": "460b992e-270c-4f72-8289-840741409654",
   "metadata": {},
   "source": [
    "Write a program to check if two strings are balanced. For example, strings s1 and s2 are balanced if all the characters in the s1 are present in s2. The character’s position doesn’t matter."
   ]
  },
  {
   "cell_type": "markdown",
   "id": "d8b4203e-8c62-4ea7-b27d-c5bb9f390516",
   "metadata": {},
   "source": [
    "Example of balanced strings:\n",
    "```python\n",
    "s1 = \"Yn\"\n",
    "s2 = \"PYnative\"\n",
    "```"
   ]
  },
  {
   "cell_type": "markdown",
   "id": "0ea95b42-7db1-438c-9cd8-a63bf0374266",
   "metadata": {},
   "source": [
    "Example of unbalanced strings:\n",
    "```python\n",
    "s1 = \"Ynf\"\n",
    "s2 = \"PYnative\"\n",
    "```"
   ]
  },
  {
   "cell_type": "code",
   "execution_count": 68,
   "id": "bd848709-5c05-415c-bc27-31b64f13fcd4",
   "metadata": {},
   "outputs": [
    {
     "name": "stdout",
     "output_type": "stream",
     "text": [
      "Not balanced\n"
     ]
    }
   ],
   "source": [
    "# solution\n",
    "def balance(s1, s2):\n",
    "  return set(s1) <= set(s2)\n",
    "if balance(s1, s2):\n",
    "  print(\"balanced\")\n",
    "else: \n",
    "  print(\"Not balanced\")"
   ]
  },
  {
   "cell_type": "markdown",
   "id": "029b14bf-7334-4ca7-83c6-16d1221f79c2",
   "metadata": {},
   "source": [
    "#### Write a program to count occurrences of all characters within a string"
   ]
  },
  {
   "cell_type": "markdown",
   "id": "a4b8a886-c5da-41a6-9966-a1054bc62877",
   "metadata": {},
   "source": [
    "For example, for `str1 = \"Apple\"` the answer should be `{'A': 1, 'p': 2, 'l': 1, 'e': 1}`"
   ]
  },
  {
   "cell_type": "code",
   "execution_count": 70,
   "id": "bd916acc-c98b-401a-a51a-01ccf91d891a",
   "metadata": {},
   "outputs": [],
   "source": [
    "str1 = \"Apple\""
   ]
  },
  {
   "cell_type": "code",
   "execution_count": 81,
   "id": "00fa6885-629d-4864-85c0-2af4c7261df8",
   "metadata": {},
   "outputs": [
    {
     "data": {
      "text/plain": [
       "{'A': 1, 'p': 2, 'l': 1, 'e': 1}"
      ]
     },
     "execution_count": 81,
     "metadata": {},
     "output_type": "execute_result"
    }
   ],
   "source": [
    "# solution\n",
    "occ = {i:list(str1).count(i) for i in set(str1)} \n",
    "occ"
   ]
  },
  {
   "cell_type": "markdown",
   "id": "6640301b-e88a-4dca-8a13-b3114f5fc8a0",
   "metadata": {},
   "source": [
    "#### Split a string on hyphens"
   ]
  },
  {
   "cell_type": "code",
   "execution_count": 83,
   "id": "02b60ab8-880a-4932-9d60-bfa3e7da2312",
   "metadata": {},
   "outputs": [],
   "source": [
    "s1 = 'Emma-is-a-data-scientist'\n",
    "expected = ['Emma', 'is', 'a', 'data', 'scientist']"
   ]
  },
  {
   "cell_type": "code",
   "execution_count": 84,
   "id": "6e9b19df-2897-4956-92d7-ff3143f07334",
   "metadata": {},
   "outputs": [
    {
     "data": {
      "text/plain": [
       "['Emma', 'is', 'a', 'data', 'scientist']"
      ]
     },
     "execution_count": 84,
     "metadata": {},
     "output_type": "execute_result"
    }
   ],
   "source": [
    "# solution\n",
    "s1.split(\"-\")"
   ]
  },
  {
   "cell_type": "markdown",
   "id": "a819c27c-7eb2-4fb6-a352-2bf1adce2389",
   "metadata": {},
   "source": [
    "#### Remove empty strings from a list of strings"
   ]
  },
  {
   "cell_type": "code",
   "execution_count": 85,
   "id": "f908098d-afc5-4faa-ba6e-2db10d0dbecf",
   "metadata": {},
   "outputs": [],
   "source": [
    "str_list = [\"Emma\", \"Jon\", \"\", \"Kelly\", None, \"Eric\", \"\"]\n",
    "expected = [\"Emma\", \"Jon\", \"Kelly\", \"Eric\"]"
   ]
  },
  {
   "cell_type": "code",
   "execution_count": 86,
   "id": "d2512174-8fa2-446a-8689-e534120adc4e",
   "metadata": {},
   "outputs": [
    {
     "data": {
      "text/plain": [
       "['Emma', 'Jon', 'Kelly', 'Eric']"
      ]
     },
     "execution_count": 86,
     "metadata": {},
     "output_type": "execute_result"
    }
   ],
   "source": [
    "# solution\n",
    "[x for x in str_list if x]"
   ]
  },
  {
   "cell_type": "markdown",
   "id": "b00c64ab-a8ea-4d47-8e57-5ddf0a72a9fa",
   "metadata": {},
   "source": [
    "#### Find words with both alphabets and numbers"
   ]
  },
  {
   "cell_type": "code",
   "execution_count": 88,
   "id": "8a335ab9-9b08-4156-9960-a2597de2e6f6",
   "metadata": {},
   "outputs": [],
   "source": [
    "str1 = \"Emma25 is Data scientist50 and AI Expert\"\n",
    "expected = ['Emma25', 'scientist50']"
   ]
  },
  {
   "cell_type": "markdown",
   "id": "16058557-1dc7-420a-b346-9e3f4a3e9fd6",
   "metadata": {},
   "source": [
    "Hint: read about the `any()` and `all()` python function, they are very handy."
   ]
  },
  {
   "cell_type": "code",
   "execution_count": 95,
   "id": "1c63a41b-e313-4a4e-bac4-e01a761546ea",
   "metadata": {
    "collapsed": true,
    "jupyter": {
     "outputs_hidden": true
    },
    "tags": []
   },
   "outputs": [
    {
     "data": {
      "text/plain": [
       "['Emma25', 'scientist50']"
      ]
     },
     "execution_count": 95,
     "metadata": {},
     "output_type": "execute_result"
    }
   ],
   "source": [
    "# solution\n",
    "both = []\n",
    "words = str1.split()\n",
    "for w in words:\n",
    "    if any(chr.isalpha() for chr in w) and any(chr.isdigit() for chr in w):\n",
    "        both.append(w)\n",
    "both"
   ]
  },
  {
   "cell_type": "markdown",
   "id": "1cea518a-91e1-4bec-8970-45d1257715db",
   "metadata": {},
   "source": [
    "#### Replace each special symbol with # in the following string"
   ]
  },
  {
   "cell_type": "code",
   "execution_count": 114,
   "id": "affc71f5-9e82-45fb-b5dd-8275df4af167",
   "metadata": {},
   "outputs": [],
   "source": [
    "s1 = '/*Jon is @developer & musician!!'\n",
    "expected = '##Jon is #developer # musician##'"
   ]
  },
  {
   "cell_type": "code",
   "execution_count": 117,
   "id": "dff45735-e65a-42ec-a0a6-7315cb78bada",
   "metadata": {},
   "outputs": [
    {
     "data": {
      "text/plain": [
       "'##Jon is #developer # musician##'"
      ]
     },
     "execution_count": 117,
     "metadata": {},
     "output_type": "execute_result"
    }
   ],
   "source": [
    "# solution\n",
    "import string\n",
    "replace_char = '#'\n",
    "for char in string.punctuation:\n",
    "    s1 = s1.replace(char, replace_char)\n",
    "s1"
   ]
  },
  {
   "cell_type": "markdown",
   "id": "592cbb58-3931-4048-b844-8f032735c4bb",
   "metadata": {},
   "source": [
    "#### Remove first n characters from a string:\n",
    "\n",
    "Write a program to remove characters from a string starting from zero up to n and return a new string.\n",
    "\n",
    "For example:\n",
    "\n",
    "remove_chars(\"pynative\", 4) so output must be tive. Here we need to remove first four characters from a string.\n",
    "remove_chars(\"pynative\", 2) so output must be native. Here we need to remove first two characters from a string."
   ]
  },
  {
   "cell_type": "code",
   "execution_count": 126,
   "id": "0642202e-b44b-472f-97c5-180390e69408",
   "metadata": {},
   "outputs": [
    {
     "data": {
      "text/plain": [
       "'llo'"
      ]
     },
     "execution_count": 126,
     "metadata": {},
     "output_type": "execute_result"
    }
   ],
   "source": [
    "# solution\n",
    "def rm(word, n):\n",
    "    w = word[n:]\n",
    "    return w\n",
    "\n",
    "rm('hello',2)"
   ]
  },
  {
   "cell_type": "markdown",
   "id": "35719b43-d77e-43ce-9205-515c115edc16",
   "metadata": {},
   "source": [
    "#### Return the count of a given substring from a string"
   ]
  },
  {
   "cell_type": "code",
   "execution_count": 128,
   "id": "0a051846-2713-46c3-9d6a-6182b3a6af7b",
   "metadata": {},
   "outputs": [],
   "source": [
    "s = 'you and me and your parents are more than you'\n",
    "subs = 'you'"
   ]
  },
  {
   "cell_type": "code",
   "execution_count": 16,
   "id": "125c6019-a225-48d3-842c-bc9cb248757e",
   "metadata": {},
   "outputs": [],
   "source": [
    "expected_result = 3"
   ]
  },
  {
   "cell_type": "code",
   "execution_count": 132,
   "id": "cd7af080-2ecb-413f-8ff8-5e8382480daf",
   "metadata": {},
   "outputs": [
    {
     "data": {
      "text/plain": [
       "3"
      ]
     },
     "execution_count": 132,
     "metadata": {},
     "output_type": "execute_result"
    }
   ],
   "source": [
    "# solution\n",
    "def count_sub(s, sub):\n",
    "    return s.count(sub)\n",
    "count_sub(s, subs)"
   ]
  },
  {
   "cell_type": "markdown",
   "id": "8eacde7e-59d3-48e3-8883-390831d4208f",
   "metadata": {},
   "source": [
    "#### Print the following pattern"
   ]
  },
  {
   "cell_type": "markdown",
   "id": "8808f549-3cc9-4629-ab67-c28153daed00",
   "metadata": {},
   "source": [
    "```python\n",
    "1 \n",
    "2 2 \n",
    "3 3 3 \n",
    "4 4 4 4 \n",
    "5 5 5 5 5\n",
    "```"
   ]
  },
  {
   "cell_type": "code",
   "execution_count": 138,
   "id": "600dbff8-73db-490f-93a7-9e492a00b0fd",
   "metadata": {},
   "outputs": [
    {
     "name": "stdout",
     "output_type": "stream",
     "text": [
      "1 \n",
      "2 2 \n",
      "3 3 3 \n",
      "4 4 4 4 \n",
      "5 5 5 5 5 \n"
     ]
    }
   ],
   "source": [
    "# solution\n",
    "for i in range(1, 6):\n",
    "    for j in range(i):\n",
    "        print(i, end=\" \")\n",
    "    print()"
   ]
  },
  {
   "cell_type": "markdown",
   "id": "b1605caa-7fec-438b-8f55-00e70d4aefda",
   "metadata": {},
   "source": [
    "### Numbers"
   ]
  },
  {
   "cell_type": "markdown",
   "id": "2112bead-96cb-4e8c-ad36-80b72813794e",
   "metadata": {},
   "source": [
    "#### Write a function called `exponent(base, exp)` that returns an int value of base raises to the power of exp."
   ]
  },
  {
   "cell_type": "markdown",
   "id": "20d7558a-68d9-4fda-9f89-7ffac05791df",
   "metadata": {},
   "source": [
    "for example:\n",
    "\n",
    "```python\n",
    "base = 5\n",
    "exponent = 4\n",
    "\n",
    "5 raises to the power of 4 is: 625 \n",
    "i.e. (5 *5 * 5 *5 = 625)\n",
    "```"
   ]
  },
  {
   "cell_type": "code",
   "execution_count": 144,
   "id": "394cdf1e-913f-4338-8474-ec0f55b0d75a",
   "metadata": {},
   "outputs": [
    {
     "data": {
      "text/plain": [
       "625"
      ]
     },
     "execution_count": 144,
     "metadata": {},
     "output_type": "execute_result"
    }
   ],
   "source": [
    "# solution\n",
    "base = 5\n",
    "exp = 4\n",
    "def exponent(base, exp):\n",
    "    return base ** exp\n",
    "\n",
    "exponent(base,exp)"
   ]
  },
  {
   "cell_type": "markdown",
   "id": "16e50a0b-2760-423d-8604-7ce768d1f2de",
   "metadata": {},
   "source": [
    "#### Count the total number of digits in a number"
   ]
  },
  {
   "cell_type": "markdown",
   "id": "79fa17af-fc07-497b-8068-d063e41491e3",
   "metadata": {},
   "source": [
    "For example, the number is 75869, so the output should be 5."
   ]
  },
  {
   "cell_type": "code",
   "execution_count": 146,
   "id": "d1c06d9b-036f-4f06-8862-cda00fa9de23",
   "metadata": {},
   "outputs": [
    {
     "data": {
      "text/plain": [
       "5"
      ]
     },
     "execution_count": 146,
     "metadata": {},
     "output_type": "execute_result"
    }
   ],
   "source": [
    "# solution\n",
    "num = 75869\n",
    "count = len(str(num))\n",
    "count"
   ]
  },
  {
   "cell_type": "markdown",
   "id": "8b130152-2a72-4473-881f-943f8bd1c4e0",
   "metadata": {},
   "source": [
    "#### Show that 0.1 + 0.2 == 0.3"
   ]
  },
  {
   "cell_type": "code",
   "execution_count": 4,
   "id": "cb280ac4-f421-460e-a312-5e97279d17ec",
   "metadata": {},
   "outputs": [],
   "source": [
    "# Your solution here\n",
    "\n",
    "# This won't work:\n",
    "# assert 0.1 + 0.2 == 0.3"
   ]
  },
  {
   "cell_type": "code",
   "execution_count": 147,
   "id": "e624fbc3-4dcd-4a74-99e4-94dff98af5d4",
   "metadata": {},
   "outputs": [
    {
     "name": "stdout",
     "output_type": "stream",
     "text": [
      "approximately equal\n"
     ]
    }
   ],
   "source": [
    "# solution\n",
    "import math\n",
    "x = 0.1 + 0.2\n",
    "y = 0.3\n",
    "\n",
    "if math.isclose(x, y):\n",
    "    print(\"approximately equal\")\n",
    "else:\n",
    "    print(\"not equal\")"
   ]
  },
  {
   "cell_type": "markdown",
   "id": "327183e0-19f5-401a-ba36-899b440530b5",
   "metadata": {},
   "source": [
    "#### Integer reversion"
   ]
  },
  {
   "cell_type": "markdown",
   "id": "bf23d0cd-7763-4958-b092-fdddf532d989",
   "metadata": {},
   "source": [
    "Reverse a given integer. For example if the input of the algorithm is 1234 then the output should be 4321."
   ]
  },
  {
   "cell_type": "code",
   "execution_count": 155,
   "id": "d2901a7d-d262-4a93-8d95-76d044397769",
   "metadata": {},
   "outputs": [
    {
     "data": {
      "text/plain": [
       "4321"
      ]
     },
     "execution_count": 155,
     "metadata": {},
     "output_type": "execute_result"
    }
   ],
   "source": [
    "# solution\n",
    "num = 1234\n",
    "reversed_num = int(str(num)[::-1])\n",
    "reversed_num"
   ]
  },
  {
   "cell_type": "markdown",
   "id": "66d42630-bd9d-4140-b127-d697a0c5d4b2",
   "metadata": {},
   "source": [
    "### Datas structures & Loops"
   ]
  },
  {
   "cell_type": "markdown",
   "id": "6228b0f3-5f16-470a-970b-72361cc1a5a8",
   "metadata": {},
   "source": [
    "#### Create a new list from a two list using the following condition"
   ]
  },
  {
   "cell_type": "markdown",
   "id": "3295fd22-eac0-4a49-b0ec-abb8f69e84c5",
   "metadata": {},
   "source": [
    "Given a two list of numbers, write a program to create a new list such that the new list should contain odd numbers from the first list and even numbers from the second list.  \n",
    "Solve via:\n",
    "* Looping\n",
    "* List comprehension"
   ]
  },
  {
   "cell_type": "code",
   "execution_count": 156,
   "id": "34325440-f114-415d-bb39-24a95f48ebe8",
   "metadata": {},
   "outputs": [],
   "source": [
    "list1 = [10, 20, 25, 30, 35]\n",
    "list2 = [40, 45, 60, 75, 90]"
   ]
  },
  {
   "cell_type": "markdown",
   "id": "21946874-492e-420f-87f8-8620fa80bbd7",
   "metadata": {},
   "source": [
    "Expected Output:\n",
    "\n",
    "`result list: [25, 35, 40, 60, 90]`"
   ]
  },
  {
   "cell_type": "code",
   "execution_count": 160,
   "id": "b8305acf-910b-48e5-8463-66da9c68062c",
   "metadata": {},
   "outputs": [
    {
     "name": "stdout",
     "output_type": "stream",
     "text": [
      "[25, 35, 40, 60, 90]\n"
     ]
    }
   ],
   "source": [
    "# solution\n",
    "result = [num for num in list1 if num % 2 == 1] + [num for num in list2 if num % 2 == 0]\n",
    "print (result)"
   ]
  },
  {
   "cell_type": "markdown",
   "id": "59ff829d-a54b-4eb7-a9b5-2b8864ae0c37",
   "metadata": {},
   "source": [
    "#### Print list in reverse order using a loop"
   ]
  },
  {
   "cell_type": "markdown",
   "id": "fe468afd-e6ed-4036-a513-eab25e555cde",
   "metadata": {},
   "source": [
    "Use a loop without using list reversal. For example:\n",
    "```python\n",
    "list1 = [10, 20, 30, 40, 50]\n",
    "[Output]:\n",
    "    50\n",
    "    40\n",
    "    30\n",
    "    20\n",
    "    10\n",
    "```"
   ]
  },
  {
   "cell_type": "code",
   "execution_count": 166,
   "id": "61cb7a3c-685a-45a8-b8ec-c81fe4a70de5",
   "metadata": {},
   "outputs": [
    {
     "name": "stdout",
     "output_type": "stream",
     "text": [
      "50\n",
      "40\n",
      "30\n",
      "20\n",
      "10\n"
     ]
    }
   ],
   "source": [
    "# solution\n",
    "for i in range(len(list1)-1, -1, -1):\n",
    "    print(list1.pop(i))"
   ]
  },
  {
   "cell_type": "markdown",
   "id": "1e990d23-f68f-4c50-a582-08add9c1d712",
   "metadata": {},
   "source": [
    "#### Find the intersection (common) of two sets and remove those elements from the first set"
   ]
  },
  {
   "cell_type": "code",
   "execution_count": 192,
   "id": "190d023f-f3fd-4c2d-866c-4fcc25504c17",
   "metadata": {},
   "outputs": [],
   "source": [
    "first_set = {23, 42, 65, 57, 78, 83, 29}\n",
    "second_set = {57, 83, 29, 67, 73, 43, 48}"
   ]
  },
  {
   "cell_type": "markdown",
   "id": "f5ecdf05-69fd-49f9-9daf-59f519b3f513",
   "metadata": {},
   "source": [
    "expected output:\n",
    "```\n",
    "Intersection is  {57, 83, 29}\n",
    "First Set after removing common element  {65, 42, 78, 23}\n",
    "```"
   ]
  },
  {
   "cell_type": "code",
   "execution_count": 193,
   "id": "f4454c68-1e2c-47ec-977d-26e560e16cfa",
   "metadata": {},
   "outputs": [
    {
     "name": "stdout",
     "output_type": "stream",
     "text": [
      "Intersection is {57, 83, 29}\n",
      "First Set after removing common element: {65, 23, 42, 78}\n"
     ]
    }
   ],
   "source": [
    "# solution:\n",
    "intersection = first_set.intersection(second_set)\n",
    "first_set.difference_update(second_set)\n",
    "\n",
    "print('Intersection is', intersection)\n",
    "print('First Set after removing common element:', first_set)"
   ]
  },
  {
   "cell_type": "markdown",
   "id": "7b2e8df9-eca7-42c6-bc08-c17aa7fa6dcf",
   "metadata": {},
   "source": [
    "#### Union two sets"
   ]
  },
  {
   "cell_type": "code",
   "execution_count": 58,
   "id": "74432c50-ffc7-4f31-9d13-53f38a2c5933",
   "metadata": {},
   "outputs": [],
   "source": [
    "first_set = {23, 42, 65, 57, 78, 83, 29}\n",
    "second_set = {57, 83, 29, 67, 73, 43, 48}\n",
    "expected = {23, 29, 42, 43, 48, 57, 65, 67, 73, 78, 83}"
   ]
  },
  {
   "cell_type": "code",
   "execution_count": 196,
   "id": "41bacc6a-8393-4756-be30-f006c0a9e370",
   "metadata": {},
   "outputs": [
    {
     "data": {
      "text/plain": [
       "{23, 29, 42, 43, 48, 57, 65, 67, 73, 78, 83}"
      ]
     },
     "execution_count": 196,
     "metadata": {},
     "output_type": "execute_result"
    }
   ],
   "source": [
    "# solution:\n",
    "union_set = first_set.union(second_set)\n",
    "union_set"
   ]
  },
  {
   "cell_type": "markdown",
   "id": "b830386e-5a23-4026-8f58-633570cdf080",
   "metadata": {},
   "source": [
    "#### Checks if one set is a subset or superset of another set. If found, delete all elements from that set"
   ]
  },
  {
   "cell_type": "markdown",
   "id": "fe2ebccd-3e5e-459e-bf43-f653e7595a39",
   "metadata": {},
   "source": [
    "For example:"
   ]
  },
  {
   "cell_type": "code",
   "execution_count": 205,
   "id": "670410b7-f1e4-48ce-aae6-292d3d5229d4",
   "metadata": {},
   "outputs": [],
   "source": [
    "first_set = {27, 43, 34}\n",
    "second_set = {34, 93, 22, 27, 43, 53, 48}"
   ]
  },
  {
   "cell_type": "markdown",
   "id": "60e28c50-a8bf-4e17-b912-1ad226c99ace",
   "metadata": {},
   "source": [
    "```\n",
    "\n",
    "First set is subset of second set - True\n",
    "Second set is subset of First set -  False\n",
    "\n",
    "First set is Super set of second set -  False\n",
    "Second set is Super set of First set -  True\n",
    "\n",
    "First Set  set()\n",
    "Second Set  {67, 73, 43, 48, 83, 57, 29}\n",
    "```"
   ]
  },
  {
   "cell_type": "code",
   "execution_count": 222,
   "id": "df24fb6f-e797-46de-bea9-739b34aadd7e",
   "metadata": {},
   "outputs": [
    {
     "name": "stdout",
     "output_type": "stream",
     "text": [
      "First Set  {57, 83, 29}\n",
      "Second Set  {48, 67, 83, 73, 43, 29, 57}\n",
      "First set is subset of second set - True\n",
      "Second set is subset of First set -  False\n",
      "First set is Super set of second set -  False\n",
      "Second set is Super set of First set -  True\n",
      "First Set  set()\n",
      "Second Set  {48, 67, 83, 73, 43, 29, 57}\n"
     ]
    }
   ],
   "source": [
    "# solution:\n",
    "print(\"First set is subset of second set -\", first_set.issubset(second_set))\n",
    "print(\"Second set is subset of First set - \", second_set.issubset(first_set))\n",
    "\n",
    "print(\"First set is Super set of second set - \", first_set.issuperset(second_set))\n",
    "print(\"Second set is Super set of First set - \", second_set.issuperset(first_set))\n",
    "\n",
    "if first_set.issubset(second_set):\n",
    "    first_set.clear()\n",
    "\n",
    "if second_set.issubset(first_set):\n",
    "    second_set.clear()\n",
    "\n",
    "print(\"First Set \", first_set)\n",
    "print(\"Second Set \", second_set)"
   ]
  },
  {
   "cell_type": "markdown",
   "id": "5be24295-1db3-41e1-a860-4288d4af8cce",
   "metadata": {},
   "source": [
    "#### Add a list of elements to a set"
   ]
  },
  {
   "cell_type": "code",
   "execution_count": 224,
   "id": "9861acce-d859-4da2-b9ec-16922ade97ea",
   "metadata": {},
   "outputs": [],
   "source": [
    "sample_set = {\"Yellow\", \"Orange\", \"Black\"}\n",
    "sample_list = [\"Blue\", \"Green\", \"Red\"]"
   ]
  },
  {
   "cell_type": "markdown",
   "id": "7eb957d4-c6db-4d46-bc54-e05580fc56da",
   "metadata": {},
   "source": [
    "Expected Outcome (yours might be in a different order): `{'Green', 'Yellow', 'Black', 'Orange', 'Red', 'Blue'}`"
   ]
  },
  {
   "cell_type": "code",
   "execution_count": 225,
   "id": "630be6cb-ffb7-4868-936c-0c4456aafa34",
   "metadata": {},
   "outputs": [
    {
     "data": {
      "text/plain": [
       "{'Black', 'Blue', 'Green', 'Orange', 'Red', 'Yellow'}"
      ]
     },
     "execution_count": 225,
     "metadata": {},
     "output_type": "execute_result"
    }
   ],
   "source": [
    "# solution:\n",
    "sample_set.update(sample_list)\n",
    "sample_set"
   ]
  },
  {
   "cell_type": "markdown",
   "id": "7821f84c-c297-4c81-9a1a-3cd250592c80",
   "metadata": {},
   "source": [
    "#### Update the first set with items that don’t exist in the second set"
   ]
  },
  {
   "cell_type": "code",
   "execution_count": 227,
   "id": "b85392b6-69b2-4fd8-8206-eff50a18355a",
   "metadata": {},
   "outputs": [],
   "source": [
    "set1 = {10, 20, 30}\n",
    "set2 = {20, 40, 50}"
   ]
  },
  {
   "cell_type": "markdown",
   "id": "d3a4b0f5-2441-49e5-9d62-45b494ea1d26",
   "metadata": {},
   "source": [
    "Expected Outcome: `set1 {10, 30}`"
   ]
  },
  {
   "cell_type": "code",
   "execution_count": 230,
   "id": "eff8293c-ad6a-44dd-b1fd-985802c4b4b3",
   "metadata": {},
   "outputs": [
    {
     "name": "stdout",
     "output_type": "stream",
     "text": [
      "set1 {10, 30}\n"
     ]
    }
   ],
   "source": [
    "# solution:\n",
    "set1.difference_update(set2)\n",
    "print(\"set1\",set1)"
   ]
  },
  {
   "cell_type": "markdown",
   "id": "d0460ff4-3019-4996-a272-d8be53b0307d",
   "metadata": {},
   "source": [
    "####  Get Only unique items from two sets"
   ]
  },
  {
   "cell_type": "code",
   "execution_count": 235,
   "id": "a7122d3e-cf42-4d63-940f-7880a6cae2dd",
   "metadata": {},
   "outputs": [],
   "source": [
    "set1 = {10, 20, 30, 40, 50}\n",
    "set2 = {30, 40, 50, 60, 70}"
   ]
  },
  {
   "cell_type": "markdown",
   "id": "3ea92ab4-7e85-44bb-b868-410a67ecc4a3",
   "metadata": {},
   "source": [
    "Expected Outcome: `{70, 40, 10, 50, 20, 60, 30}`"
   ]
  },
  {
   "cell_type": "code",
   "execution_count": 239,
   "id": "b65f5fd4-9ef7-4e96-8444-22038cbb5b1d",
   "metadata": {},
   "outputs": [
    {
     "name": "stdout",
     "output_type": "stream",
     "text": [
      "{70, 10, 20, 60}\n"
     ]
    }
   ],
   "source": [
    "# solution\n",
    "unique_items = set1.union(set2).symmetric_difference(set1.intersection(set2))\n",
    "print(unique_items)"
   ]
  },
  {
   "cell_type": "markdown",
   "id": "ab39535b-dfd0-4ee6-ab06-cba7a4bd8344",
   "metadata": {},
   "source": [
    "####  Iterate a given list and check if a given element exists as a key’s value in a dictionary. If not, delete it from the list"
   ]
  },
  {
   "cell_type": "markdown",
   "id": "2b65ed0e-40a6-4489-9e3f-8f62b5d3321e",
   "metadata": {},
   "source": [
    "For example:"
   ]
  },
  {
   "cell_type": "code",
   "execution_count": 241,
   "id": "b75a1f16-ec97-405d-885f-655051066ef3",
   "metadata": {},
   "outputs": [],
   "source": [
    "roll_number = [47, 64, 69, 37, 76, 83, 95, 97]\n",
    "sample_dict = {'Jhon':47, 'Emma':69, 'Kelly':76, 'Jason':97}"
   ]
  },
  {
   "cell_type": "markdown",
   "id": "d7f41a49-4157-4d35-8677-0c11a3526161",
   "metadata": {},
   "source": [
    "Expected output: `After removing unwanted elements from list [47, 69, 76, 97]`"
   ]
  },
  {
   "cell_type": "code",
   "execution_count": 243,
   "id": "a1b10275-6495-425c-8d68-830c758c371c",
   "metadata": {},
   "outputs": [
    {
     "name": "stdout",
     "output_type": "stream",
     "text": [
      "After removing unwanted elements from list [47, 69, 76, 97]\n"
     ]
    }
   ],
   "source": [
    "# solution\n",
    "roll_number = [num for num in roll_number if num in sample_dict.values()]\n",
    "print('After removing unwanted elements from list', roll_number)"
   ]
  },
  {
   "cell_type": "markdown",
   "id": "54b5ef3b-25e9-431c-a047-d7ebdfdcdf76",
   "metadata": {},
   "source": [
    "#### Get all values from the dictionary and add them to a list but don’t add duplicates"
   ]
  },
  {
   "cell_type": "code",
   "execution_count": 268,
   "id": "b495f598-9b31-456c-880c-0ba9de8bec82",
   "metadata": {},
   "outputs": [],
   "source": [
    "speed = {'jan': 47, 'feb': 52, 'march': 47, 'April': 44, 'May': 52, 'June': 53, 'july': 54, 'Aug': 44, 'Sept': 54}"
   ]
  },
  {
   "cell_type": "markdown",
   "id": "fcb40d39-afbe-4f86-ab5d-b7ab694cc86c",
   "metadata": {},
   "source": [
    "Expected Outcome: `[47, 52, 44, 53, 54]`"
   ]
  },
  {
   "cell_type": "code",
   "execution_count": 269,
   "id": "978c36df-8cfd-4c4f-8f5c-6b7ad67b6eeb",
   "metadata": {},
   "outputs": [
    {
     "data": {
      "text/plain": [
       "[44, 47, 52, 53, 54]"
      ]
     },
     "execution_count": 269,
     "metadata": {},
     "output_type": "execute_result"
    }
   ],
   "source": [
    "# solution\n",
    "unique_values = {value for value in speed.values()}\n",
    "unique_values_list = list(unique_values)\n",
    "unique_values_list"
   ]
  },
  {
   "cell_type": "markdown",
   "id": "381e1886-3967-4c13-b948-076e06d00098",
   "metadata": {},
   "source": [
    "#### Convert two lists into a dictionary"
   ]
  },
  {
   "cell_type": "code",
   "execution_count": 270,
   "id": "501ccca6-d79c-4c19-b8e1-098b309b7c98",
   "metadata": {},
   "outputs": [],
   "source": [
    "keys = ['Ten', 'Twenty', 'Thirty']\n",
    "values = [10, 20, 30]"
   ]
  },
  {
   "cell_type": "markdown",
   "id": "e308118a-5201-41cd-8bf1-f6e5bf11ac25",
   "metadata": {},
   "source": [
    "Expected Outcome: `{'Ten': 10, 'Twenty': 20, 'Thirty': 30}`"
   ]
  },
  {
   "cell_type": "markdown",
   "id": "01badd46-8153-4c98-bb79-d9604bfe028f",
   "metadata": {},
   "source": [
    "Hint: use `zip()` and dict comprehension"
   ]
  },
  {
   "cell_type": "code",
   "execution_count": 271,
   "id": "56ee5bbf-45e3-49d5-87e7-c25f6da1c0e6",
   "metadata": {},
   "outputs": [
    {
     "data": {
      "text/plain": [
       "{'Ten': 10, 'Twenty': 20, 'Thirty': 30}"
      ]
     },
     "execution_count": 271,
     "metadata": {},
     "output_type": "execute_result"
    }
   ],
   "source": [
    "# solution\n",
    "dictionary = {key: value for key, value in zip(keys, values)}\n",
    "dictionary"
   ]
  },
  {
   "cell_type": "markdown",
   "id": "cf288ee4-fd14-4df3-902c-2fb6863f2ba1",
   "metadata": {},
   "source": [
    "#### Merge two Python dictionaries into one"
   ]
  },
  {
   "cell_type": "code",
   "execution_count": 272,
   "id": "90984d60-c432-401f-8e16-e78ea21f70a3",
   "metadata": {},
   "outputs": [],
   "source": [
    "dict1 = {'Ten': 10, 'Twenty': 20, 'Thirty': 30}\n",
    "dict2 = {'Thirty': 30, 'Fourty': 40, 'Fifty': 50}"
   ]
  },
  {
   "cell_type": "markdown",
   "id": "bd0f6d3a-fde8-4e91-a7b7-16e28ca2c7e3",
   "metadata": {},
   "source": [
    "Expected Outcome: `{'Ten': 10, 'Twenty': 20, 'Thirty': 30, 'Fourty': 40, 'Fifty': 50}`"
   ]
  },
  {
   "cell_type": "markdown",
   "id": "70d8485c-24fd-46f7-b27f-ffa4fe301196",
   "metadata": {},
   "source": [
    "Hints: use `.copy()` and `.update()` method of dict. "
   ]
  },
  {
   "cell_type": "code",
   "execution_count": 273,
   "id": "fe5d3a30-0b3f-439d-b7f2-afd7b7c3a7d0",
   "metadata": {},
   "outputs": [
    {
     "data": {
      "text/plain": [
       "{'Ten': 10, 'Twenty': 20, 'Thirty': 30, 'Fourty': 40, 'Fifty': 50}"
      ]
     },
     "execution_count": 273,
     "metadata": {},
     "output_type": "execute_result"
    }
   ],
   "source": [
    "# solution\n",
    "dict1.update(dict2)\n",
    "dict1"
   ]
  },
  {
   "cell_type": "markdown",
   "id": "bc513fdd-416a-4e2e-9c07-1711afe55d0f",
   "metadata": {},
   "source": [
    "#### Print the value of key ‘history’ from the below dict"
   ]
  },
  {
   "cell_type": "code",
   "execution_count": 275,
   "id": "bf1a9de4-b996-4767-a7c0-1dcd5e097b0a",
   "metadata": {},
   "outputs": [],
   "source": [
    "sampleDict = {\n",
    "    \"class\": {\n",
    "        \"student\": {\n",
    "            \"name\": \"Mike\",\n",
    "            \"marks\": {\n",
    "                \"physics\": 70,\n",
    "                \"history\": 80\n",
    "            }\n",
    "        }\n",
    "    }\n",
    "}"
   ]
  },
  {
   "cell_type": "markdown",
   "id": "4a95d9b8-ddbc-41cb-92d4-f14d53055425",
   "metadata": {},
   "source": [
    "Expected Outcome: `80`"
   ]
  },
  {
   "cell_type": "code",
   "execution_count": 276,
   "id": "e295bdce-b535-45fa-8869-e2e575a4a53d",
   "metadata": {},
   "outputs": [
    {
     "name": "stdout",
     "output_type": "stream",
     "text": [
      "80\n"
     ]
    }
   ],
   "source": [
    "# solution\n",
    "print(sampleDict['class']['student']['marks']['history'])"
   ]
  },
  {
   "cell_type": "markdown",
   "id": "2628eb40-5076-4946-ad67-aa6b1dfd8d0d",
   "metadata": {},
   "source": [
    "#### Delete a list of keys from a dictionary"
   ]
  },
  {
   "cell_type": "code",
   "execution_count": 279,
   "id": "ab95c867-7d92-48c1-84ce-55e0e34b7398",
   "metadata": {},
   "outputs": [],
   "source": [
    "sample_dict = {\n",
    "    \"name\": \"Kelly\",\n",
    "    \"age\": 25,\n",
    "    \"salary\": 8000,\n",
    "    \"city\": \"New york\"\n",
    "}\n",
    "\n",
    "# Keys to remove\n",
    "keys = [\"name\", \"salary\"]"
   ]
  },
  {
   "cell_type": "markdown",
   "id": "cc98df57-5e00-41a5-8d5a-efdf7a935283",
   "metadata": {},
   "source": [
    "Expected Outcome: `{'city': 'New york', 'age': 25}`"
   ]
  },
  {
   "cell_type": "code",
   "execution_count": 282,
   "id": "012f1c08-fa2b-45b0-928b-f456d43e9014",
   "metadata": {},
   "outputs": [
    {
     "data": {
      "text/plain": [
       "{'age': 25, 'city': 'New york'}"
      ]
     },
     "execution_count": 282,
     "metadata": {},
     "output_type": "execute_result"
    }
   ],
   "source": [
    "# solution\n",
    "result_dict = {key: value for key, value in sample_dict.items() if key not in keys}\n",
    "result_dict"
   ]
  },
  {
   "cell_type": "markdown",
   "id": "ec0d3bf6-2046-4a78-87ae-4c14b5ab7085",
   "metadata": {},
   "source": [
    "#### Check if a key exists in a dictionary"
   ]
  },
  {
   "cell_type": "code",
   "execution_count": 284,
   "id": "92fc9e47-767c-456e-8bc3-e2f8bf050d94",
   "metadata": {},
   "outputs": [],
   "source": [
    "sample_dict = {'a': 100, 'b': 200, 'c': 300}\n",
    "key = 'a'"
   ]
  },
  {
   "cell_type": "markdown",
   "id": "87ec9ac1-d2f9-4a8c-9604-a3fce1971431",
   "metadata": {},
   "source": [
    "Expected Outcome: `a present in a dict`"
   ]
  },
  {
   "cell_type": "code",
   "execution_count": 286,
   "id": "3061064a-dc67-4702-9720-1c912778b5d4",
   "metadata": {},
   "outputs": [
    {
     "name": "stdout",
     "output_type": "stream",
     "text": [
      "a present in a dict\n"
     ]
    }
   ],
   "source": [
    "# solution\n",
    "if key in sample_dict:\n",
    "    print(key, \"present in a dict\")"
   ]
  },
  {
   "cell_type": "markdown",
   "id": "ac2aab51-6413-4507-b39d-cb941e3058fe",
   "metadata": {},
   "source": [
    "#### Check if a key exists in a dictionary"
   ]
  },
  {
   "cell_type": "code",
   "execution_count": 294,
   "id": "b361ce28-be2d-4a55-a041-eb9ebbba74ce",
   "metadata": {},
   "outputs": [],
   "source": [
    "sample_dict = {'a': 100, 'b': 200, 'c': 300}\n",
    "val = 200"
   ]
  },
  {
   "cell_type": "markdown",
   "id": "ff8e9948-4868-4eda-8b74-e7361c790125",
   "metadata": {},
   "source": [
    "Expected Outcome: `200 present in a dict`"
   ]
  },
  {
   "cell_type": "code",
   "execution_count": 295,
   "id": "fe711765-ad94-4fba-9eee-c6278e598bda",
   "metadata": {},
   "outputs": [
    {
     "name": "stdout",
     "output_type": "stream",
     "text": [
      "200 present in the dict\n"
     ]
    }
   ],
   "source": [
    "# solution\n",
    "if val in sample_dict.values():\n",
    "    print(val, \"present in the dict\")"
   ]
  },
  {
   "cell_type": "markdown",
   "id": "a5c09ca8-b826-4427-9b32-a95cf63325b8",
   "metadata": {},
   "source": [
    "#### Unpack the tuple into 4 variables"
   ]
  },
  {
   "cell_type": "code",
   "execution_count": 297,
   "id": "0fde611d-151b-4bbd-999c-87cad77004af",
   "metadata": {},
   "outputs": [],
   "source": [
    "tuple1 = (10, 20, 30, 40)"
   ]
  },
  {
   "cell_type": "markdown",
   "id": "3f0667e5-2675-41be-a0bb-049a58cc93bf",
   "metadata": {},
   "source": [
    "Expected Outcome:\n",
    "```\n",
    "tuple1 = (10, 20, 30, 40)\n",
    "# Your code\n",
    "print(a) # should print 10\n",
    "print(b) # should print 20\n",
    "print(c) # should print 30\n",
    "print(d) # should print 40\n",
    "```"
   ]
  },
  {
   "cell_type": "code",
   "execution_count": 298,
   "id": "68939ffd-ccf3-480d-aeff-2c806fe8ed73",
   "metadata": {},
   "outputs": [
    {
     "name": "stdout",
     "output_type": "stream",
     "text": [
      "10\n",
      "20\n",
      "30\n",
      "40\n"
     ]
    }
   ],
   "source": [
    "# solution\n",
    "a, b, c, d = tuple1\n",
    "\n",
    "print(a)\n",
    "print(b)\n",
    "print(c)\n",
    "print(d)"
   ]
  },
  {
   "cell_type": "markdown",
   "id": "c0db25e9-e68b-49e5-871a-ddf413cae80b",
   "metadata": {},
   "source": [
    "#### Swap two tuples"
   ]
  },
  {
   "cell_type": "code",
   "execution_count": 299,
   "id": "d8907449-faaa-4a98-8586-d08e3b7c5e3e",
   "metadata": {},
   "outputs": [],
   "source": [
    "tuple1 = (11, 22)\n",
    "tuple2 = (99, 88)"
   ]
  },
  {
   "cell_type": "markdown",
   "id": "a532c5f4-59d9-49b3-bcce-9b9497417d32",
   "metadata": {},
   "source": [
    "Expected Outcome:\n",
    "```\n",
    "tuple1: (99, 88)\n",
    "tuple2: (11, 22)\n",
    "```"
   ]
  },
  {
   "cell_type": "code",
   "execution_count": 300,
   "id": "5055373a-e2ef-4a98-b372-bffa0bb129a0",
   "metadata": {},
   "outputs": [
    {
     "name": "stdout",
     "output_type": "stream",
     "text": [
      "tuple1: (99, 88)\n",
      "tuple2: (11, 22)\n"
     ]
    }
   ],
   "source": [
    "# solution\n",
    "tuple1, tuple2 = tuple2, tuple1\n",
    "\n",
    "print(\"tuple1:\", tuple1)\n",
    "print(\"tuple2:\", tuple2)"
   ]
  },
  {
   "cell_type": "markdown",
   "id": "63384bac-bc96-4e58-a61a-963277cef81c",
   "metadata": {},
   "source": [
    "#### Sort a tuple of tuples by 2nd item"
   ]
  },
  {
   "cell_type": "code",
   "execution_count": 308,
   "id": "720ec0a5-5ac3-4237-a2cf-1d1235f2c068",
   "metadata": {},
   "outputs": [],
   "source": [
    "tuple1 = (('a', 23),('b', 37),('c', 11), ('d',29))"
   ]
  },
  {
   "cell_type": "markdown",
   "id": "ad2a6e5e-063c-4137-8d83-94fe24657c37",
   "metadata": {},
   "source": [
    "Expected Outcome: `(('c', 11), ('a', 23), ('d', 29), ('b', 37))`\n"
   ]
  },
  {
   "cell_type": "code",
   "execution_count": 309,
   "id": "f8aa597a-91c1-463c-859e-f577c6685282",
   "metadata": {},
   "outputs": [
    {
     "name": "stdout",
     "output_type": "stream",
     "text": [
      "(('c', 11), ('a', 23), ('d', 29), ('b', 37))\n"
     ]
    }
   ],
   "source": [
    "# solution\n",
    "tuple1_sorted = tuple(sorted(tuple1, key=lambda x: x[1]))\n",
    "print(tuple1_sorted)"
   ]
  },
  {
   "cell_type": "markdown",
   "id": "7524ee25-c6a9-4d12-b142-544d2c0e37a7",
   "metadata": {},
   "source": [
    "#### Check if all items in the tuple are the same"
   ]
  },
  {
   "cell_type": "code",
   "execution_count": 86,
   "id": "dad693a4-e8c4-4ecb-9635-7e165b1a5c6a",
   "metadata": {},
   "outputs": [],
   "source": [
    "tuple1 = (45, 45, 45, 45)"
   ]
  },
  {
   "cell_type": "markdown",
   "id": "8ce3d576-88a7-4bf6-90eb-ed9ca2c07c25",
   "metadata": {},
   "source": [
    "Hint: use `all()`"
   ]
  },
  {
   "cell_type": "code",
   "execution_count": 311,
   "id": "9f30af18-2dd3-4579-bae1-1321dd966f16",
   "metadata": {},
   "outputs": [
    {
     "data": {
      "text/plain": [
       "True"
      ]
     },
     "execution_count": 311,
     "metadata": {},
     "output_type": "execute_result"
    }
   ],
   "source": [
    "# solution\n",
    "all_same = all(x == tuple1[0] for x in tuple1)\n",
    "all_same"
   ]
  },
  {
   "cell_type": "markdown",
   "id": "2d96727e-5d24-4fab-832a-4d50d9c712ce",
   "metadata": {},
   "source": [
    "### Functions"
   ]
  },
  {
   "cell_type": "markdown",
   "id": "471ff48a-0613-463c-acda-623732dd42b6",
   "metadata": {},
   "source": [
    "#### Create a function with variable length of arguments"
   ]
  },
  {
   "cell_type": "markdown",
   "id": "3b4e772b-75db-4350-9636-509f089cba52",
   "metadata": {},
   "source": [
    "Write a program to create function func1() to accept a variable length of arguments and print their value.  \n",
    "**Note**: Create a function in such a way that we can pass any number of arguments to this function, and the function should process them and display each argument’s value."
   ]
  },
  {
   "cell_type": "markdown",
   "id": "cbf586de-ea44-4403-b6ee-177782015db7",
   "metadata": {},
   "source": [
    "Expected output:"
   ]
  },
  {
   "cell_type": "markdown",
   "id": "4e697986-5bfb-4254-89bb-cfe08cb79449",
   "metadata": {},
   "source": [
    "```python\n",
    "# call function with 3 arguments\n",
    "func1(20, 40, 60)\n",
    "\n",
    "Printing values\n",
    "20\n",
    "40\n",
    "60\n",
    "\n",
    "# call function with 2 arguments\n",
    "func1(80, 100)\n",
    "\n",
    "Printing values\n",
    "80\n",
    "100\n"
   ]
  },
  {
   "cell_type": "code",
   "execution_count": 313,
   "id": "f9cbc5ad-ce1b-4ca7-ab65-a43c897f4cf9",
   "metadata": {},
   "outputs": [
    {
     "name": "stdout",
     "output_type": "stream",
     "text": [
      "Printing values\n",
      "20\n",
      "40\n",
      "60\n",
      "Printing values\n",
      "80\n",
      "100\n"
     ]
    }
   ],
   "source": [
    "# solution\n",
    "def func1(*args):\n",
    "    print(\"Printing values\")\n",
    "    for arg in args:\n",
    "        print(arg)\n",
    "\n",
    "func1(20, 40, 60)\n",
    "func1(80, 100)"
   ]
  },
  {
   "cell_type": "markdown",
   "id": "641e7a53-7eac-4451-9938-ef35f523ae40",
   "metadata": {},
   "source": [
    "#### Return multiple values from a function"
   ]
  },
  {
   "cell_type": "markdown",
   "id": "d0851de5-d8d9-40b2-a9be-2a4441111c37",
   "metadata": {},
   "source": [
    "Write a program to create function `calculation()` such that it can accept two variables and calculate addition and subtraction. Also, **it must return both addition and subtraction in a single return call**."
   ]
  },
  {
   "cell_type": "markdown",
   "id": "fb7c5b08-8625-419b-9942-e3347340f1bc",
   "metadata": {},
   "source": [
    "For example:\n",
    "```python\n",
    "def calculation(a, b):\n",
    "    # Your Code\n",
    "\n",
    "res = calculation(40, 10)\n",
    "print(res)\n",
    "50, 30\n",
    "```"
   ]
  },
  {
   "cell_type": "code",
   "execution_count": 318,
   "id": "3a95a4c0-e4a2-4fec-81e0-37e11b85b7cf",
   "metadata": {},
   "outputs": [
    {
     "name": "stdout",
     "output_type": "stream",
     "text": [
      "(50, 30)\n"
     ]
    }
   ],
   "source": [
    "# solution\n",
    "def calculation(a, b):\n",
    "    return a+b, a-b\n",
    "\n",
    "res = calculation(40, 10)\n",
    "print(res)"
   ]
  },
  {
   "cell_type": "markdown",
   "id": "1163445f-6532-4c78-a679-ad49083ecafb",
   "metadata": {},
   "source": [
    "#### Create a function with a default argument"
   ]
  },
  {
   "cell_type": "markdown",
   "id": "192628ec-ad11-446d-a076-e5d781398de4",
   "metadata": {},
   "source": [
    "Write a program to create a function show_employee() using the following conditions.\n",
    "\n",
    "* It should accept the employee’s name and salary and display both.\n",
    "* If the salary is missing in the function call then assign default value 9000 to salary"
   ]
  },
  {
   "cell_type": "markdown",
   "id": "d6b521ff-69db-4412-bf0f-bb0cf894e8ed",
   "metadata": {},
   "source": [
    "For example, if:\n",
    "```python  \n",
    "showEmployee(\"Ben\", 12000)\n",
    "showEmployee(\"Jessa\")\n",
    "```\n",
    "Then the expected output is:\n",
    "```python\n",
    "Name: Ben salary: 12000\n",
    "Name: Jessa salary: 9000\n",
    "```"
   ]
  },
  {
   "cell_type": "code",
   "execution_count": 319,
   "id": "5cc798ea-4409-4acd-836c-25c45a7e185f",
   "metadata": {},
   "outputs": [
    {
     "name": "stdout",
     "output_type": "stream",
     "text": [
      "Name: Ben salary: 12000\n",
      "Name: Jessa salary: 9000\n"
     ]
    }
   ],
   "source": [
    "# solution\n",
    "def show_employee(name, salary=9000): \n",
    "  print(\"Name:\", name, \"salary:\", salary) \n",
    "\n",
    "show_employee(\"Ben\", 12000) \n",
    "show_employee(\"Jessa\")"
   ]
  },
  {
   "cell_type": "markdown",
   "id": "1bf052c8-1ab4-47c0-b99f-58261fcd81ad",
   "metadata": {},
   "source": [
    "#### Assign a different name to function and call it through the new name"
   ]
  },
  {
   "cell_type": "markdown",
   "id": "59b72afc-bf6e-4812-b51d-60483d871c07",
   "metadata": {},
   "source": [
    "Below is the function `display_student(name, age)`. Assign a new name show_tudent(name, age) to it and call it using the new name (without defining a new function!)."
   ]
  },
  {
   "cell_type": "code",
   "execution_count": 321,
   "id": "8912de70-07f1-4eaf-9dfb-016ef42e45c6",
   "metadata": {},
   "outputs": [],
   "source": [
    "def display_student(name, age):\n",
    "    print(name, age)"
   ]
  },
  {
   "cell_type": "code",
   "execution_count": 35,
   "id": "06236a88-f2da-498c-b537-04b56724014d",
   "metadata": {},
   "outputs": [
    {
     "name": "stdout",
     "output_type": "stream",
     "text": [
      "Emma 26\n"
     ]
    }
   ],
   "source": [
    "display_student(\"Emma\", 26)"
   ]
  },
  {
   "cell_type": "markdown",
   "id": "19db6415-3d70-4298-afd3-7a0054071f4e",
   "metadata": {},
   "source": [
    "Now make the following code: `show_student(name, age)` return the same output without a new function definition"
   ]
  },
  {
   "cell_type": "code",
   "execution_count": 322,
   "id": "aace7d31-5252-4af2-bb64-2bdf05efae87",
   "metadata": {},
   "outputs": [
    {
     "name": "stdout",
     "output_type": "stream",
     "text": [
      "Emma 26\n"
     ]
    }
   ],
   "source": [
    "# solution\n",
    "show_student = display_student\n",
    "show_student(\"Emma\", 26)"
   ]
  },
  {
   "cell_type": "markdown",
   "id": "78964e00-e7ea-4440-b74d-638b0aa72674",
   "metadata": {},
   "source": [
    "### General programming Qs"
   ]
  },
  {
   "cell_type": "markdown",
   "id": "4b7b79d9-7a64-4d07-86d9-4759e7e7fcc6",
   "metadata": {},
   "source": [
    "In the drills below, **before (!) coding**, start by manually calculating some expected outputs and create assertions. The more, the better. Only then start coding! "
   ]
  },
  {
   "cell_type": "markdown",
   "id": "48271699-a4f9-4735-8f57-4fd12bd1e450",
   "metadata": {},
   "source": [
    "#### Calculate income tax for the given income by adhering to the below rules:"
   ]
  },
  {
   "attachments": {
    "94ab1430-0bb2-4eb8-869d-af30fa46b338.png": {
     "image/png": "[encoded data removed]"
    }
   },
   "cell_type": "markdown",
   "id": "6ce4756e-deef-48c7-9eca-534ee9427652",
   "metadata": {},
   "source": [
    "![image.png](attachment:94ab1430-0bb2-4eb8-869d-af30fa46b338.png)"
   ]
  },
  {
   "cell_type": "code",
   "execution_count": 327,
   "id": "3bee874a-5e6b-4285-8243-8c1fc965d28e",
   "metadata": {},
   "outputs": [
    {
     "name": "stdout",
     "output_type": "stream",
     "text": [
      "8000.0\n"
     ]
    }
   ],
   "source": [
    "# solution\n",
    "def income_tax(income):\n",
    "    if (income <= 10000):\n",
    "      tax = income * 0.1\n",
    "    elif (income <= 30000):\n",
    "      tax = 10000 * 0.1 + (income - 10000) * 0.15\n",
    "    elif (income <= 50000):\n",
    "      tax = 10000 * 0.1 + (30000 - 10000) * 0.15 + (income - 30000) * 0.2\n",
    "    else:\n",
    "      tax = 10000 * 0.1 + (30000 - 10000) * 0.15 + (50000 - 30000) * 0.2 + (income - 50000) * 0.25\n",
    "    print(tax)\n",
    "income_tax(50000)"
   ]
  },
  {
   "cell_type": "markdown",
   "id": "a88a2cfd-9ae6-4ce5-9948-85b97ce5badd",
   "metadata": {},
   "source": [
    "#### Print downward Half-Pyramid Pattern with Star (asterisk)"
   ]
  },
  {
   "cell_type": "markdown",
   "id": "a0a48a69-ab4b-4c5a-9178-fae272c22085",
   "metadata": {},
   "source": [
    "Print the following pattern:"
   ]
  },
  {
   "cell_type": "markdown",
   "id": "dd966411-baf2-4e3e-9161-7009172f500a",
   "metadata": {},
   "source": [
    "```python\n",
    "* * * * *  \n",
    "* * * *  \n",
    "* * *  \n",
    "* *  \n",
    "*\n",
    "```"
   ]
  },
  {
   "cell_type": "code",
   "execution_count": 328,
   "id": "87aeff02-2a66-419e-ba51-f27171b91d35",
   "metadata": {},
   "outputs": [
    {
     "name": "stdout",
     "output_type": "stream",
     "text": [
      "* * * * * \n",
      "* * * * \n",
      "* * * \n",
      "* * \n",
      "* \n"
     ]
    }
   ],
   "source": [
    "for i in range(5, 0, -1):\n",
    "    print('* ' * i)"
   ]
  },
  {
   "cell_type": "markdown",
   "id": "f59810bb-4b6c-422b-902d-451e654a0295",
   "metadata": {},
   "source": [
    "#### Write a program to display all prime numbers within a range"
   ]
  },
  {
   "cell_type": "markdown",
   "id": "9cb492ef-1cf9-406e-a2a8-72c0b1626cb2",
   "metadata": {},
   "source": [
    "A Prime Number is a number that cannot be made by multiplying other whole numbers. A prime number is a natural number greater than 1 that is not a product of two smaller natural numbers"
   ]
  },
  {
   "cell_type": "markdown",
   "id": "e1f5b317-bc6b-4f20-9bc8-9c38dfd44b68",
   "metadata": {},
   "source": [
    "Example:\n",
    "```python\n",
    "start = 25\n",
    "end = 50\n",
    "\n",
    "Prime numbers between 25 and 50 are:\n",
    "29\n",
    "31\n",
    "37\n",
    "41\n",
    "43\n",
    "47\n",
    "```"
   ]
  },
  {
   "cell_type": "code",
   "execution_count": 330,
   "id": "96822a31-4244-43bb-9f18-4d52343439ec",
   "metadata": {
    "collapsed": true,
    "jupyter": {
     "outputs_hidden": true
    },
    "tags": []
   },
   "outputs": [
    {
     "name": "stdout",
     "output_type": "stream",
     "text": [
      "Prime numbers between 25 and 50 are:\n",
      "29\n",
      "31\n",
      "37\n",
      "41\n",
      "43\n",
      "47\n"
     ]
    }
   ],
   "source": [
    "# solution\n",
    "start = 25\n",
    "end = 50\n",
    "\n",
    "print(\"Prime numbers between\", start, \"and\", end, \"are:\")\n",
    "for num in range(start, end):\n",
    "    if num > 1:\n",
    "        for i in range(2, num):\n",
    "            if (num % i) == 0:\n",
    "                break\n",
    "        else:\n",
    "            print(num)"
   ]
  },
  {
   "cell_type": "markdown",
   "id": "149de991-dc4c-4737-8726-cf1c1db80f49",
   "metadata": {},
   "source": [
    "## Data Manipulation"
   ]
  },
  {
   "cell_type": "markdown",
   "id": "f36931a1-7c5e-4791-850a-54aa0d12f87c",
   "metadata": {},
   "source": [
    "### Data generation"
   ]
  },
  {
   "cell_type": "code",
   "execution_count": 341,
   "id": "19630bad-f47c-4ac7-97f3-8f779c55edd5",
   "metadata": {},
   "outputs": [],
   "source": [
    "import numpy as np"
   ]
  },
  {
   "cell_type": "code",
   "execution_count": 342,
   "id": "18d1ab56-4d94-4dad-a870-07d1e7772f5a",
   "metadata": {},
   "outputs": [],
   "source": [
    "arr_1 = 2 + 0.5 * np.random.randn(10)\n",
    "vec_1 = list(arr_1)\n",
    "arr_2 = 4 + 0.25 * np.random.randn(100)\n",
    "vec_2 = list(arr_2)"
   ]
  },
  {
   "cell_type": "code",
   "execution_count": 333,
   "id": "d3573dac-281a-48f9-9b09-6e544565dd61",
   "metadata": {},
   "outputs": [
    {
     "data": {
      "text/plain": [
       "[(2.359075985357861, 4.029547614462225),\n",
       " (2.283438908466689, 4.472969259906732),\n",
       " (1.8545962150703768, 3.685321315400293),\n",
       " (1.4098842522188357, 4.334724751655724),\n",
       " (1.9420323470912955, 4.382979977508505),\n",
       " (2.3048538854180243, 4.052100760744873),\n",
       " (1.8429933282461615, 3.951695698873878),\n",
       " (1.1316506500547012, 3.9728295340863338),\n",
       " (2.648753913112694, 4.304138565282541),\n",
       " (2.4060496515060694, 4.025806234487446)]"
      ]
     },
     "execution_count": 333,
     "metadata": {},
     "output_type": "execute_result"
    }
   ],
   "source": [
    "list(zip(vec_1, vec_2))"
   ]
  },
  {
   "cell_type": "markdown",
   "id": "1c0e1796-be09-4c3e-b9dc-07787a3a56f0",
   "metadata": {},
   "source": [
    "### Mean and STD"
   ]
  },
  {
   "cell_type": "markdown",
   "id": "63682fc5-188d-44fa-8a2b-6db99adf59fa",
   "metadata": {},
   "source": [
    "Using basic python syntax and modules, calculate the mean and standard devation of `vec_1` and `vec_2`."
   ]
  },
  {
   "cell_type": "code",
   "execution_count": 335,
   "id": "00f3d2e7-71e5-466b-a0ff-d4d9b59311a1",
   "metadata": {},
   "outputs": [
    {
     "data": {
      "text/plain": [
       "2.0183329136542705"
      ]
     },
     "execution_count": 335,
     "metadata": {},
     "output_type": "execute_result"
    }
   ],
   "source": [
    "# solution\n",
    "mean_1 = np.mean(vec_1)\n",
    "std_1 = np.std(vec_1)\n",
    "\n",
    "mean_2 = np.mean(vec_2)\n",
    "std_2 = np.std(vec_2)\n",
    "\n",
    "mean_1"
   ]
  },
  {
   "cell_type": "markdown",
   "id": "e3ef725f-b9e5-4edc-907c-c9995f3723eb",
   "metadata": {},
   "source": [
    "### Dot product"
   ]
  },
  {
   "cell_type": "markdown",
   "id": "da0f209f-99aa-4625-b053-b7a99f6d4090",
   "metadata": {},
   "source": [
    "Using basic python syntax and modules, calculate the dot product (AKA scalar product) of `vec_1` and `vec_2`.\n",
    "\n",
    "Reminder: The Dot product between two vectors is defined as:\n",
    "\n",
    "$ \\textbf{p} \\cdot \\textbf{q} = \n",
    "\\begin{pmatrix} x_{1} & y_{1} & z_{1} \\end{pmatrix} \n",
    "\\begin{pmatrix} x_{2}\\\\ y_{2}\\\\ z_{2} \\end{pmatrix} = \\sum_i{p_i \\cdot q_i}$ "
   ]
  },
  {
   "cell_type": "code",
   "execution_count": 344,
   "id": "107e0eda-03bc-4194-abf6-1835f4a4b072",
   "metadata": {},
   "outputs": [
    {
     "name": "stdout",
     "output_type": "stream",
     "text": [
      "dot product of vec_1 and vec_2: 85.83995918047862\n"
     ]
    }
   ],
   "source": [
    "# solution\n",
    "arr_1 = 2 + 0.5 * np.random.randn(10)\n",
    "vec_1 = list(arr_1)\n",
    "arr_2 = 4 + 0.25 * np.random.randn(10)\n",
    "vec_2 = list(arr_2)\n",
    "\n",
    "dot_product = np.dot(vec_1, vec_2)\n",
    "print(\"dot product of vec_1 and vec_2:\", dot_product)"
   ]
  },
  {
   "cell_type": "markdown",
   "id": "112d148c-cb0a-4092-961b-fc17320d0809",
   "metadata": {},
   "source": [
    "### Correlation"
   ]
  },
  {
   "cell_type": "markdown",
   "id": "4398ea82-f423-46e9-ba4d-e175aeecae2a",
   "metadata": {},
   "source": [
    "Using basic python syntax and modules, calculate the [pearson correlation](https://en.wikipedia.org/wiki/Pearson_correlation_coefficient) between `vec_1` and `vec_2`:\n",
    "\n",
    "\\begin{equation}\n",
    "r_{xy} = \\frac{\\sum_{i=1}^{n}(p_i-\\bar{p})(q_i-\\bar{q})}{\\sqrt{\\sum_{i=1}^{n}(p_i-\\bar{p})^2}\\sqrt{\\sum_{i=1}^{n}(q_i-\\bar{q})^2}}\n",
    "\\end{equation}\n",
    "\n",
    "where $r_{pq}$ is the Pearson correlation coefficient between vectors $\\textbf{p}$ and $\\textbf{q}$, $n$ is the number of data points, $p_i$ and $q_i$ are the $i$-th observations of $\\textbf{p}$ and $\\textbf{q}$, and $\\bar{p}$ and $\\bar{q}$ are their respective means."
   ]
  },
  {
   "cell_type": "code",
   "execution_count": 345,
   "id": "2fb5a698-0348-4bb0-b861-3af0f90e6d5e",
   "metadata": {},
   "outputs": [
    {
     "name": "stdout",
     "output_type": "stream",
     "text": [
      "-0.25685467335289586 0.4737550580638682\n"
     ]
    }
   ],
   "source": [
    "# solution\n",
    "from scipy.stats import pearsonr\n",
    "\n",
    "correlation, p_value = pearsonr(vec_1, vec_2)\n",
    "\n",
    "print(correlation, p_value)"
   ]
  },
  {
   "cell_type": "markdown",
   "id": "bf0455d4-73cf-4268-854c-f5d9d6012648",
   "metadata": {},
   "source": [
    "### Matrix multiplication"
   ]
  },
  {
   "cell_type": "markdown",
   "id": "44785810-62b6-47b2-bbd1-f32b552806fb",
   "metadata": {},
   "source": [
    "Given the following two matrices, compute the product between them:\n",
    "* Implement with basic python\n",
    "* Implement with numpy\n",
    "* use the `%timeit` magic to compare the running time of both implementations"
   ]
  },
  {
   "cell_type": "code",
   "execution_count": 369,
   "id": "19c1af59-5cc2-43b8-a3cc-9295e54879b6",
   "metadata": {},
   "outputs": [],
   "source": [
    "matrix1 = [[1, 2, 3],\n",
    "           [4, 5, 6],\n",
    "           [7, 8, 9]]"
   ]
  },
  {
   "cell_type": "code",
   "execution_count": 370,
   "id": "8eb222b2-1876-45a5-9b4b-868edafb701f",
   "metadata": {},
   "outputs": [],
   "source": [
    "matrix2 = [[9, 8, 7],\n",
    "           [6, 5, 4],\n",
    "           [3, 2, 1]]"
   ]
  },
  {
   "cell_type": "code",
   "execution_count": 349,
   "id": "4bbb08dd-c941-40b4-95b1-fc97cd348083",
   "metadata": {},
   "outputs": [],
   "source": [
    "expected_result = [[30, 24, 18],\n",
    "                   [84, 69, 54],\n",
    "                   [138, 114, 90]]"
   ]
  },
  {
   "cell_type": "code",
   "execution_count": 371,
   "id": "75ec019c-2fe5-41be-8f7a-1c7234d6a7dc",
   "metadata": {},
   "outputs": [
    {
     "name": "stdout",
     "output_type": "stream",
     "text": [
      "17.5 µs ± 56.8 ns per loop (mean ± std. dev. of 7 runs, 100000 loops each)\n",
      "2.91 µs ± 7.15 ns per loop (mean ± std. dev. of 7 runs, 100000 loops each)\n"
     ]
    }
   ],
   "source": [
    "# solution\n",
    "import numpy as np\n",
    "\n",
    "# Basic Python implementation\n",
    "def matrix_multiply(m1, m2):\n",
    "    result = [[sum(a*b for a,b in zip(m1_row,m2_col)) for m2_col in zip(*m2)] for m1_row in m1]\n",
    "    return result\n",
    "\n",
    "# Time the basic Python implementation\n",
    "%timeit matrix_multiply(matrix1, matrix2)\n",
    "\n",
    "# NumPy implementation\n",
    "np_matrix1 = np.array(matrix1)\n",
    "np_matrix2 = np.array(matrix2)\n",
    "\n",
    "result = np.dot(np_matrix1, np_matrix2)\n",
    "\n",
    "# Time the NumPy implementation\n",
    "%timeit np.dot(np_matrix1, np_matrix2)"
   ]
  },
  {
   "cell_type": "markdown",
   "id": "328758e9-b0af-4e5f-9f1d-f641600a17aa",
   "metadata": {},
   "source": [
    "### Data reshaping"
   ]
  },
  {
   "cell_type": "markdown",
   "id": "cb07ebf7-4f6e-46d1-b04a-e853ffd8d6cd",
   "metadata": {},
   "source": [
    "Write a fuction `reshape(vector, shape)` that receives a list and returns a list of lists in the desired shape, but only if it fits!"
   ]
  },
  {
   "cell_type": "code",
   "execution_count": 375,
   "id": "cc6d9f92-a3b9-423b-b0a9-2a6eb38e797c",
   "metadata": {},
   "outputs": [],
   "source": [
    "l = [1, 2, 3, 4, 5, 6, 7, 8, 9, 10, 11, 12]"
   ]
  },
  {
   "cell_type": "markdown",
   "id": "191c4753-b8aa-4deb-be7f-be68f7b94278",
   "metadata": {},
   "source": [
    "For example:\n",
    "```python\n",
    "\n",
    "reshape(l, (3,4))\n",
    "[Output]:\n",
    "    [[ 1,  2,  3,  4],\n",
    "     [ 5,  6,  7,  8],\n",
    "     [ 9, 10, 11, 12]]\n",
    "\n",
    "rehsape(l, (4,3))\n",
    "[Output]:\n",
    "    [[ 1,  2,  3],\n",
    "     [ 4,  5,  6],\n",
    "     [ 7,  8,  9],\n",
    "     [10, 11, 12]]\n",
    "    \n",
    "reshape(l, (2,6))\n",
    "[Output]:\n",
    "    [[ 1,  2,  3,  4,  5,  6],\n",
    "     [ 7,  8,  9, 10, 11, 12]]\n",
    "```"
   ]
  },
  {
   "cell_type": "code",
   "execution_count": 380,
   "id": "e8d79f9d-38e8-4d16-a052-0812c3407210",
   "metadata": {},
   "outputs": [
    {
     "data": {
      "text/plain": [
       "'no reshape'"
      ]
     },
     "execution_count": 380,
     "metadata": {},
     "output_type": "execute_result"
    }
   ],
   "source": [
    "# solution\n",
    "import numpy as np\n",
    "\n",
    "def reshape(vector, shape):\n",
    "    size = shape[0] * shape[1]\n",
    "    if size != len(vector):\n",
    "        return ('no reshape')\n",
    "    return np.array(vector).reshape(shape)\n",
    "\n",
    "reshape(l, (3,4))\n",
    "reshape(l, (5,2))"
   ]
  },
  {
   "cell_type": "markdown",
   "id": "b2851437-f547-43ae-a4f0-fffe2a1eac48",
   "metadata": {},
   "source": [
    "## Gradient decent"
   ]
  },
  {
   "cell_type": "markdown",
   "id": "69d9694d-efd1-44a3-ad11-2081be5bca5e",
   "metadata": {},
   "source": [
    "To be defined"
   ]
  },
  {
   "cell_type": "markdown",
   "id": "62582107-cdab-46d0-944d-e6dfa88f6601",
   "metadata": {},
   "source": [
    "## OOP design"
   ]
  },
  {
   "cell_type": "markdown",
   "id": "6660c8e9-7f11-4054-bc50-098e63712012",
   "metadata": {},
   "source": [
    "### Warm-up drill"
   ]
  },
  {
   "cell_type": "markdown",
   "id": "594d777d-9304-4129-971d-00060c100c0b",
   "metadata": {},
   "source": [
    "Suppose you're working on a program for a pet store, and you need to represent different kinds of pets. You decide to use object-oriented programming to model your solution. You start by creating a base class called Pet that has common attributes and methods, and then create two subclasses Dog and Cat that inherit from Pet and add their own unique attributes and methods.\n",
    "\n",
    "Implement in OOP the following attributes and methods:\n",
    "* Attributes: \n",
    "  * name, age, breed, food type, sound, height, weight. \n",
    "  * For cats only: color\n",
    "  * For dogs only: is_working_dog\n",
    "* Methods: \n",
    "  * `make_sound()` that will print the sounds attribute\n",
    "  * `is_overweight()` - calculates the pet BMI and returns True of False in case of Over/Under 25\n",
    "  * `get_nemesis()` - returns the name of the pet enemy"
   ]
  },
  {
   "cell_type": "code",
   "execution_count": 1,
   "id": "034b293b-10de-4a4b-899d-73ba66e38792",
   "metadata": {},
   "outputs": [],
   "source": [
    "# solution\n",
    "class Pet:\n",
    "    def __init__(self, name, age, breed, food_type, sound, height, weight):\n",
    "        self.name = name\n",
    "        self.age = age\n",
    "        self.breed = breed\n",
    "        self.food_type = food_type\n",
    "        self.sound = sound\n",
    "        self.height = height\n",
    "        self.weight = weight\n",
    "\n",
    "    def make_sound(self):\n",
    "        print(self.sound)\n",
    "\n",
    "    def is_overweight(self):\n",
    "        bmi = self.weight / (self.height ** 2)\n",
    "        if bmi > 25:\n",
    "            return True\n",
    "        else:\n",
    "            return False\n",
    "\n",
    "    def get_nemesis(self):\n",
    "        return \"unknown\"\n",
    "\n",
    "class Cat(Pet):\n",
    "    def __init__(self, name, age, breed, food_type, sound, height, weight, color):\n",
    "        super().__init__(name, age, breed, food_type, sound, height, weight)\n",
    "        self.color = color\n",
    "\n",
    "    def get_color(self):\n",
    "        return self.color\n",
    "\n",
    "class Dog(Pet):\n",
    "    def __init__(self, name, age, breed, food_type, sound, height, weight, is_working_dog):\n",
    "        super().__init__(name, age, breed, food_type, sound, height, weight)\n",
    "        self.is_working_dog = is_working_dog\n",
    "\n",
    "    def is_working(self):\n",
    "        return self.is_working_dog"
   ]
  },
  {
   "cell_type": "markdown",
   "id": "52016330-50d5-4163-b6ab-cd601044d85f",
   "metadata": {},
   "source": [
    "### Vehicels exercise"
   ]
  },
  {
   "cell_type": "markdown",
   "id": "3389d017-c5d4-4dbe-8c7a-e0643bce17ea",
   "metadata": {},
   "source": [
    "This OOP exercise covers questions on the following topics:\n",
    "\n",
    "* Class and Object creation\n",
    "* Instance variables and Methods, and Class level attributes\n",
    "* Model systems with class inheritance i.e., inherit From Other Classes\n",
    "* Parent Classes and Child Classes\n",
    "* Extend the functionality of Parent Classes using Child class\n",
    "* Object checking"
   ]
  },
  {
   "cell_type": "markdown",
   "id": "846c49bd-48a2-4c5a-9b11-656a48b71104",
   "metadata": {},
   "source": [
    "#### Create a Vehicle class without any variables and methods"
   ]
  },
  {
   "cell_type": "code",
   "execution_count": 2,
   "id": "1312817d-c7f1-4521-8233-15ac57b8010b",
   "metadata": {},
   "outputs": [],
   "source": [
    "# solution\n",
    "class Vehicle:\n",
    "    pass"
   ]
  },
  {
   "cell_type": "markdown",
   "id": "90d51ef4-ffac-40c5-84b7-47f7ba43c187",
   "metadata": {},
   "source": [
    "#### Create a Class with instance attributes"
   ]
  },
  {
   "cell_type": "markdown",
   "id": "664e68b2-d744-42d1-8637-298cc008f06e",
   "metadata": {},
   "source": [
    "Write a Python program to create a Vehicle class with max_speed and mileage instance attributes.\n",
    "\n"
   ]
  },
  {
   "cell_type": "code",
   "execution_count": 3,
   "id": "146ddedf-33f2-43f3-bbea-ef9036e881d2",
   "metadata": {},
   "outputs": [],
   "source": [
    "# solution\n",
    "class Vehicle:\n",
    "    def __init__(self, max_speed, mileage):\n",
    "        self.max_speed = max_speed\n",
    "        self.mileage = mileage"
   ]
  },
  {
   "cell_type": "markdown",
   "id": "0486984b-ba8e-440c-b346-6784fd440567",
   "metadata": {},
   "source": [
    "#### Create a child class Bus that will inherit all of the variables and methods of the Vehicle class"
   ]
  },
  {
   "cell_type": "code",
   "execution_count": 4,
   "id": "a7c3f09c-95c8-492c-91f8-0d97ede3dab8",
   "metadata": {},
   "outputs": [],
   "source": [
    "# solution\n",
    "class Bus(Vehicle):\n",
    "    pass"
   ]
  },
  {
   "cell_type": "markdown",
   "id": "fa2f587c-a2ff-424c-a945-030078b2f3fb",
   "metadata": {},
   "source": [
    "#### Override `__str__()` to control how the class will be printed "
   ]
  },
  {
   "cell_type": "markdown",
   "id": "37bed8f0-0c91-4f51-8434-b4196129ff34",
   "metadata": {},
   "source": [
    "Expected Outcome:\n",
    "\n",
    "```python\n",
    "School_bus = Bus(\"School Volvo\", 180, 12)\n",
    "print(bus)\n",
    "Vehicle Name: School Volvo Speed: 180 Mileage: 12\n",
    "```"
   ]
  },
  {
   "cell_type": "code",
   "execution_count": null,
   "id": "acdabbe2-16cb-4751-987f-f01f660e8c44",
   "metadata": {},
   "outputs": [],
   "source": [
    "# solution\n",
    "class Bus(Vehicle):\n",
    "    def __init__(self, name, max_speed, mileage):\n",
    "        super().__init__(max_speed, mileage)\n",
    "        self.name = name\n",
    "        \n",
    "    def __str__(self):\n",
    "        return f\"Vehicle Name: {self.name} Speed: {self.max_speed} Mileage: {self.mileage}\""
   ]
  },
  {
   "cell_type": "markdown",
   "id": "20d68243-8293-4793-89db-2e76bbf47074",
   "metadata": {},
   "source": [
    "#### Set vehicle capacity"
   ]
  },
  {
   "cell_type": "markdown",
   "id": "1ceb4868-b590-4058-90ad-1bef97b2830d",
   "metadata": {},
   "source": [
    "Give the capacity argument of `Bus.seating_capacity()` a default value of 50."
   ]
  },
  {
   "cell_type": "code",
   "execution_count": null,
   "id": "82a4a279-67c9-4d7e-bac7-83c369417eaa",
   "metadata": {},
   "outputs": [],
   "source": [
    "# solution\n",
    "    def seating_capacity(self, capacity=50):\n",
    "        self.capacity = capacity"
   ]
  },
  {
   "cell_type": "markdown",
   "id": "cb5bb01c-a264-475f-83d0-c00d5d47cdee",
   "metadata": {},
   "source": [
    "#### Define a property that gets the same value for every class instance (object)"
   ]
  },
  {
   "cell_type": "markdown",
   "id": "4e10baf7-50c9-47b1-baa0-34417b8f681b",
   "metadata": {},
   "source": [
    "Let's say `number_of_wheels`."
   ]
  },
  {
   "cell_type": "code",
   "execution_count": 10,
   "id": "1e137684-acd6-4c89-90b9-7081c6c82983",
   "metadata": {},
   "outputs": [],
   "source": [
    "# solution\n",
    "class Vehicle:\n",
    "    number_of_wheels = 4  # class level attribute\n",
    "    \n",
    "    def __init__(self, max_speed, mileage):\n",
    "        self.max_speed = max_speed\n",
    "        self.mileage = mileage\n",
    "        self.capacity = None\n",
    "        \n",
    "    def set_capacity(self, capacity):\n",
    "        self.capacity = capacity\n",
    "        \n",
    "    @property\n",
    "    def wheels(self):\n",
    "        return Vehicle.number_of_wheels"
   ]
  },
  {
   "cell_type": "markdown",
   "id": "459b8326-9981-4e4d-8078-aeebf0af27bb",
   "metadata": {},
   "source": [
    "#### Adding a `fare()` functionallity"
   ]
  },
  {
   "cell_type": "markdown",
   "id": "3a19d1a1-761c-4b11-ba9a-9f3df2260ab3",
   "metadata": {},
   "source": [
    "Create a Bus child class that inherits from the Vehicle class. The default fare charge of any vehicle is seating capacity * 100. If Vehicle is Bus instance, we need to add an extra 10% on full fare as a maintenance charge. So total fare for bus instance will become the final amount = total fare + 10% of the total fare."
   ]
  },
  {
   "cell_type": "markdown",
   "id": "5c845c22-edf0-4e10-8ac9-a0065b424d22",
   "metadata": {},
   "source": [
    "**Note**: The bus seating capacity is 50. so the final fare amount should be 5500. You need to override the fare() method of a Vehicle class in Bus class.\n",
    "\n"
   ]
  },
  {
   "cell_type": "code",
   "execution_count": 11,
   "id": "64599a23-e655-49ab-b22b-1cf8b1e10522",
   "metadata": {},
   "outputs": [],
   "source": [
    "# solution\n",
    "class Bus(Vehicle):\n",
    "    def fare(self):\n",
    "        total_fare = self.capacity * 100\n",
    "        if isinstance(self, Bus):\n",
    "            total_fare *= 1.1   # add 10% maintenance charge for buses\n",
    "        return total_fare"
   ]
  },
  {
   "cell_type": "markdown",
   "id": "8836d9fb-0823-4089-8481-2f5977c44719",
   "metadata": {},
   "source": [
    "####  Determine if School_bus is also an instance of the Vehicle class"
   ]
  },
  {
   "cell_type": "markdown",
   "id": "f2a1fefa-3947-42cd-b5c2-316803648e9a",
   "metadata": {},
   "source": [
    "Given:\n",
    "```python\n",
    "school_bus = Bus(\"School Volvo\", 180, 12)\n",
    "```\n",
    "\n",
    "write code to check is school_bus is an instance of the vehicle class. Use the `isinstance()` function"
   ]
  },
  {
   "cell_type": "code",
   "execution_count": null,
   "id": "fffc2774-fd1d-446f-9fbb-245177d0b835",
   "metadata": {},
   "outputs": [],
   "source": [
    "# solution\n",
    "school_bus = Bus(\"School Volvo\", 180, 12)\n",
    "print(isinstance(school_bus, Vehicle))"
   ]
  },
  {
   "cell_type": "markdown",
   "id": "f37771a7-b5d7-4666-8662-57f21e41d3a0",
   "metadata": {},
   "source": [
    "## Appendix - Self learning!"
   ]
  },
  {
   "cell_type": "markdown",
   "id": "a6f28518-9f85-415b-8b51-8df3181a6345",
   "metadata": {},
   "source": [
    "### Date and Time"
   ]
  },
  {
   "cell_type": "markdown",
   "id": "806fa038-a4e0-49cb-b6f1-446585bf93f0",
   "metadata": {},
   "source": [
    "In the below, you should read about the `datetime` package in python. use `dir()` and `help()` to list all it's methods and options, or use the online documentation (search for it!)"
   ]
  },
  {
   "cell_type": "markdown",
   "id": "df10382f-1d34-44d5-8007-be80b2f7e986",
   "metadata": {
    "tags": []
   },
   "source": [
    "#### Print current date and time in Python"
   ]
  },
  {
   "cell_type": "code",
   "execution_count": 12,
   "id": "e9dc3ab2-6332-4213-aafc-c3dcaa9410b0",
   "metadata": {},
   "outputs": [
    {
     "data": {
      "text/plain": [
       "datetime.datetime(2023, 3, 2, 13, 47, 49, 371271)"
      ]
     },
     "execution_count": 12,
     "metadata": {},
     "output_type": "execute_result"
    }
   ],
   "source": [
    "# solution\n",
    "import datetime\n",
    "\n",
    "now = datetime.datetime.now()\n",
    "now"
   ]
  },
  {
   "cell_type": "markdown",
   "id": "01924d76-44b6-4383-91bb-f6ec2c0ce14e",
   "metadata": {},
   "source": [
    "#### Convert string into a datetime object"
   ]
  },
  {
   "cell_type": "code",
   "execution_count": 13,
   "id": "7e931c1c-4464-468b-b959-56c3d2ac3ec7",
   "metadata": {},
   "outputs": [],
   "source": [
    "# solution\n",
    "import datetime\n",
    "\n",
    "date_string = \"2022-12-31 23:59:59\"\n",
    "date_object = datetime.datetime.strptime(date_string, '%Y-%m-%d %H:%M:%S')"
   ]
  },
  {
   "cell_type": "markdown",
   "id": "cd49002c-c7b8-470e-84f5-a9447dbccd81",
   "metadata": {},
   "source": [
    "#### Subtract a week (7 days)  from a given date in Python"
   ]
  },
  {
   "cell_type": "code",
   "execution_count": 14,
   "id": "c4de1766-6fec-4e91-a9a1-e5a4105d5122",
   "metadata": {},
   "outputs": [],
   "source": [
    "# solution\n",
    "one_week_ago = date_object - datetime.timedelta(days=7)"
   ]
  },
  {
   "cell_type": "markdown",
   "id": "9229fe11-4537-4687-bed2-069633f3705c",
   "metadata": {},
   "source": [
    "#### Print a date in a the following format"
   ]
  },
  {
   "cell_type": "markdown",
   "id": "9077aec4-0318-4030-95dc-22e3b2704ccc",
   "metadata": {},
   "source": [
    "`Day_name  Day_number  Month_name  Year`"
   ]
  },
  {
   "cell_type": "markdown",
   "id": "37d7849b-f0ab-4fe5-aca0-61a5e059c7a1",
   "metadata": {},
   "source": [
    "Expected Outcome: `Tuesday 25 February 2020`"
   ]
  },
  {
   "cell_type": "code",
   "execution_count": 15,
   "id": "e14b977e-d729-405d-93f9-57ccc8a02ab3",
   "metadata": {},
   "outputs": [
    {
     "name": "stdout",
     "output_type": "stream",
     "text": [
      "Tuesday 25 February 2020\n"
     ]
    }
   ],
   "source": [
    "# solution\n",
    "import datetime\n",
    "\n",
    "date_object = datetime.datetime(2020, 2, 25)\n",
    "\n",
    "formatted_date = date_object.strftime(\"%A %d %B %Y\")\n",
    "\n",
    "print(formatted_date)"
   ]
  },
  {
   "cell_type": "markdown",
   "id": "0d0939db-c437-4f6e-adf3-3d8ce3db763f",
   "metadata": {},
   "source": [
    "#### Find the day of the week of a given date"
   ]
  },
  {
   "cell_type": "code",
   "execution_count": 90,
   "id": "613e6577-776a-4238-8f77-7d77e79eef36",
   "metadata": {},
   "outputs": [],
   "source": [
    "given_date = datetime(2020, 7, 26)"
   ]
  },
  {
   "cell_type": "markdown",
   "id": "01b73274-adec-4aee-91eb-466c13edac0e",
   "metadata": {},
   "source": [
    "Expected Outcome: `Sunday`"
   ]
  },
  {
   "cell_type": "code",
   "execution_count": 17,
   "id": "16ffbf31-a9e0-433b-9d76-8e9ed90b3493",
   "metadata": {},
   "outputs": [
    {
     "data": {
      "text/plain": [
       "'Sunday'"
      ]
     },
     "execution_count": 17,
     "metadata": {},
     "output_type": "execute_result"
    }
   ],
   "source": [
    "# solution\n",
    "from datetime import datetime\n",
    "given_date = datetime(2020, 7, 26)\n",
    "weekday_name = given_date.strftime('%A')\n",
    "weekday_name"
   ]
  },
  {
   "cell_type": "markdown",
   "id": "2ace26f6-4769-40b9-ad09-afc0c5db32b6",
   "metadata": {},
   "source": [
    "#### Convert the following datetime into a string"
   ]
  },
  {
   "cell_type": "code",
   "execution_count": 93,
   "id": "2dc93646-c39e-4c9d-a1dc-c40b6feae141",
   "metadata": {},
   "outputs": [],
   "source": [
    "given_date = datetime(2020, 2, 25)"
   ]
  },
  {
   "cell_type": "markdown",
   "id": "a883d0d8-13cb-4016-b620-b244cb3bfd5e",
   "metadata": {},
   "source": [
    "Expected Outcome: `\"2020-02-25 00:00:00\"`"
   ]
  },
  {
   "cell_type": "code",
   "execution_count": 18,
   "id": "74fcd11d-386c-4a8f-a6d2-6729e69e8f8d",
   "metadata": {},
   "outputs": [
    {
     "data": {
      "text/plain": [
       "'2020-02-25 00:00:00'"
      ]
     },
     "execution_count": 18,
     "metadata": {},
     "output_type": "execute_result"
    }
   ],
   "source": [
    "# solution\n",
    "from datetime import datetime\n",
    "\n",
    "given_date = datetime(2020, 2, 25)\n",
    "date_string = given_date.strftime('%Y-%m-%d %H:%M:%S')\n",
    "date_string"
   ]
  },
  {
   "cell_type": "markdown",
   "id": "01978fcc-d462-4979-95ba-a9f73782dbe0",
   "metadata": {},
   "source": [
    "#### Calculate the date 4 months from the current date"
   ]
  },
  {
   "cell_type": "code",
   "execution_count": 94,
   "id": "19a0ff84-2c1a-47e1-8301-467fb293c491",
   "metadata": {},
   "outputs": [],
   "source": [
    "given_date = datetime(2020, 2, 25).date()"
   ]
  },
  {
   "cell_type": "markdown",
   "id": "05a801d0-d615-4926-a2b1-a2d04250619a",
   "metadata": {},
   "source": [
    "Expected Outcome: `2020-06-25`"
   ]
  },
  {
   "cell_type": "code",
   "execution_count": 19,
   "id": "6d32fe01-55f3-4380-8ea1-eab14cf8ab52",
   "metadata": {},
   "outputs": [
    {
     "name": "stdout",
     "output_type": "stream",
     "text": [
      "2020-06-25\n"
     ]
    }
   ],
   "source": [
    "# solution\n",
    "from datetime import date\n",
    "from dateutil.relativedelta import relativedelta\n",
    "\n",
    "given_date = date(2020, 2, 25)\n",
    "new_date = given_date + relativedelta(months=4)\n",
    "\n",
    "print(new_date)"
   ]
  }
 ],
 "metadata": {
  "kernelspec": {
   "display_name": "Python 3 (ipykernel)",
   "language": "python",
   "name": "python3"
  },
  "language_info": {
   "codemirror_mode": {
    "name": "ipython",
    "version": 3
   },
   "file_extension": ".py",
   "mimetype": "text/x-python",
   "name": "python",
   "nbconvert_exporter": "python",
   "pygments_lexer": "ipython3",
   "version": "3.9.13"
  },
  "toc-autonumbering": true
 },
 "nbformat": 4,
 "nbformat_minor": 5
}
